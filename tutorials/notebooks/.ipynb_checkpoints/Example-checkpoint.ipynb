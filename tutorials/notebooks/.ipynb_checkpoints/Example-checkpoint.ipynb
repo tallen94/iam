{
 "cells": [
  {
   "cell_type": "markdown",
   "metadata": {},
   "source": [
    "### Example\n",
    "In this example, we write a function to calculate the mean of a list of numbers"
   ]
  },
  {
   "cell_type": "code",
   "execution_count": 1,
   "metadata": {},
   "outputs": [],
   "source": [
    "import pandas as pd\n",
    "import numpy as np\n",
    "import requests\n",
    "from io import StringIO\n",
    "from bs4 import BeautifulSoup as bs\n",
    "from datetime import datetime\n",
    "import json"
   ]
  },
  {
   "cell_type": "code",
   "execution_count": 81,
   "metadata": {},
   "outputs": [],
   "source": [
    "def get_df(id, year):\n",
    "    response = requests.get(\"https://www.nwac.us/data-portal/csv/q\", {\"datalogger_id\": id, \"year\": year})\n",
    "    return pd.read_csv(StringIO(response.text))\n",
    "\n",
    "def get_soup(url):\n",
    "    page = requests.get(url)\n",
    "    return bs(page.text, 'lxml')\n",
    "\n",
    "def get_portal_urls():\n",
    "    soup = get_soup(\"https://www.nwac.us/data-portal/\")\n",
    "    div = soup.find(\"div\", {\"class\":\"entry-content\"})\n",
    "    elms = div.findAll(\"li\")\n",
    "    return [elm.find(\"a\")[\"href\"] for elm in elms]\n",
    "\n",
    "def get_options(url):\n",
    "    soup = get_soup(\"https://www.nwac.us\" + url)\n",
    "    optionElements = soup.findAll(\"select\", {\"name\": \"datalogger_id\"})[0].findAll(\"option\")\n",
    "    return ([option.text for option in optionElements], [option[\"value\"] for option in optionElements])\n",
    "\n",
    "def get_data(year, portal):\n",
    "    df_list = {}\n",
    "    names, ids = get_options(f'/data-portal/location/{portal}/')\n",
    "    for name, id in zip(names, ids):\n",
    "        df_list[name] = get_df(id, year)\n",
    "    return df_list\n",
    "\n",
    "def get_avg_temps(year, portals):\n",
    "    # What is the average temperature?\n",
    "    temps = {}\n",
    "    for portal in portals:\n",
    "        data = get_data(year, portal)\n",
    "        column = 'Temperature  (deg F) '\n",
    "        avgs = []\n",
    "        for key in data.keys():\n",
    "            if column in data[key].columns:\n",
    "                avgs.append(data[key].mean()[column])\n",
    "        temps[portal] = np.mean(avgs)\n",
    "    return temps"
   ]
  },
  {
   "cell_type": "code",
   "execution_count": 82,
   "metadata": {},
   "outputs": [],
   "source": [
    "year = 2019\n",
    "portals = [\n",
    "    'hurricane-ridge',\n",
    "    'mt-baker-ski-area',\n",
    "#     'washington-pass',\n",
    "#     'lake-wenatchee',\n",
    "#     'stevens-pass',\n",
    "#     'snoqualmie-pass',\n",
    "#     'mt-rainier',\n",
    "#     'white-pass-ski-area',\n",
    "#     'mt-st-helens',\n",
    "#     'mt-hood',\n",
    "#     'crystal',\n",
    "#     'chinook-pass'\n",
    "]"
   ]
  },
  {
   "cell_type": "code",
   "execution_count": 84,
   "metadata": {},
   "outputs": [
    {
     "data": {
      "text/plain": [
       "{'hurricane-ridge': 38.98589634703201, 'mt-baker-ski-area': 39.56530690452371}"
      ]
     },
     "execution_count": 84,
     "metadata": {},
     "output_type": "execute_result"
    }
   ],
   "source": [
    "get_avg_temps(year, portals)"
   ]
  },
  {
   "cell_type": "code",
   "execution_count": 79,
   "metadata": {},
   "outputs": [],
   "source": [
    "data = json.dumps({\n",
    "    \"year\": 2019,\n",
    "    \"portals\": portals\n",
    "})\n",
    "headers = {\n",
    "    \"content-type\": \"application/json\",\n",
    "    \"sessiontoken\": \"\",\n",
    "}\n",
    "response = requests.post(\"<iam_url>/executable/weather-demo/main/base/function/weather-data/run\", data=data, headers=headers)"
   ]
  },
  {
   "cell_type": "code",
   "execution_count": 80,
   "metadata": {},
   "outputs": [
    {
     "data": {
      "text/plain": [
       "{'result': {'crystal': 36.215856937024284}}"
      ]
     },
     "execution_count": 80,
     "metadata": {},
     "output_type": "execute_result"
    }
   ],
   "source": [
    "response.json()"
   ]
  },
  {
   "cell_type": "code",
   "execution_count": null,
   "metadata": {},
   "outputs": [],
   "source": []
  }
 ],
 "metadata": {
  "kernelspec": {
   "display_name": "Python 3",
   "language": "python",
   "name": "python3"
  },
  "language_info": {
   "codemirror_mode": {
    "name": "ipython",
    "version": 3
   },
   "file_extension": ".py",
   "mimetype": "text/x-python",
   "name": "python",
   "nbconvert_exporter": "python",
   "pygments_lexer": "ipython3",
   "version": "3.6.1"
  }
 },
 "nbformat": 4,
 "nbformat_minor": 2
}
